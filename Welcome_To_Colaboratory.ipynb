{
  "nbformat": 4,
  "nbformat_minor": 0,
  "metadata": {
    "colab": {
      "name": "Welcome To Colaboratory",
      "provenance": [],
      "collapsed_sections": [],
      "toc_visible": true,
      "include_colab_link": true
    },
    "kernelspec": {
      "display_name": "Python 3",
      "name": "python3"
    }
  },
  "cells": [
    {
      "cell_type": "markdown",
      "metadata": {
        "id": "view-in-github",
        "colab_type": "text"
      },
      "source": [
        "<a href=\"https://colab.research.google.com/github/nithusha-bandari/Adv-prog/blob/master/Welcome_To_Colaboratory.ipynb\" target=\"_parent\"><img src=\"https://colab.research.google.com/assets/colab-badge.svg\" alt=\"Open In Colab\"/></a>"
      ]
    },
    {
      "cell_type": "markdown",
      "metadata": {
        "id": "fFRDZQaRRp29",
        "colab_type": "text"
      },
      "source": [
        ""
      ]
    },
    {
      "cell_type": "markdown",
      "metadata": {
        "id": "ZqZeXvSRRrqR",
        "colab_type": "text"
      },
      "source": [
        "PATTERN"
      ]
    },
    {
      "cell_type": "code",
      "metadata": {
        "id": "gXDVYDBGI41O",
        "colab_type": "code",
        "colab": {
          "base_uri": "https://localhost:8080/",
          "height": 102
        },
        "outputId": "cae3ea57-482d-4b1d-a68b-9513fe60d616"
      },
      "source": [
        "k=1\n",
        "for i in range(0,5):\n",
        "    for j in range(0,k):\n",
        "        print(\"*\", end=\"\")\n",
        "    k = k+1\n",
        "    print() "
      ],
      "execution_count": 14,
      "outputs": [
        {
          "output_type": "stream",
          "text": [
            "*\n",
            "**\n",
            "***\n",
            "****\n",
            "*****\n"
          ],
          "name": "stdout"
        }
      ]
    },
    {
      "cell_type": "markdown",
      "metadata": {
        "id": "MCHCnpDjRx4H",
        "colab_type": "text"
      },
      "source": [
        "MULTIPLICATION TABLE"
      ]
    },
    {
      "cell_type": "code",
      "metadata": {
        "id": "-ek3nLmpJOsB",
        "colab_type": "code",
        "colab": {
          "base_uri": "https://localhost:8080/",
          "height": 221
        },
        "outputId": "d9f444c0-92d4-449b-bb85-824bf2eb4021"
      },
      "source": [
        "print(\"Enter'x' for exit.\");\n",
        "num=input(\"enter a number:\");\n",
        "if num == 'x':\n",
        "  exit();\n",
        "else:\n",
        "    number=int(num);\n",
        "    for i in range(1,11):\n",
        "      print(number,\"*\",i,\"=\",number*i);\n",
        "    \n"
      ],
      "execution_count": 18,
      "outputs": [
        {
          "output_type": "stream",
          "text": [
            "Enter'x' for exit.\n",
            "enter a number:7\n",
            "7 * 1 = 7\n",
            "7 * 2 = 14\n",
            "7 * 3 = 21\n",
            "7 * 4 = 28\n",
            "7 * 5 = 35\n",
            "7 * 6 = 42\n",
            "7 * 7 = 49\n",
            "7 * 8 = 56\n",
            "7 * 9 = 63\n",
            "7 * 10 = 70\n"
          ],
          "name": "stdout"
        }
      ]
    },
    {
      "cell_type": "markdown",
      "metadata": {
        "id": "dqOGYLdcR5Sr",
        "colab_type": "text"
      },
      "source": [
        "DECIMAL TO BINARY"
      ]
    },
    {
      "cell_type": "code",
      "metadata": {
        "id": "rNkCw-qFKXjF",
        "colab_type": "code",
        "colab": {
          "base_uri": "https://localhost:8080/",
          "height": 51
        },
        "outputId": "e58fbe6d-e8f3-4a8b-bd3c-65f17539c7b3"
      },
      "source": [
        "def dtob(n):\n",
        "    x=bin(n)\n",
        "    x=x[2:]\n",
        "    print(\"The equivalent binary number is\",x)\n",
        "y=int(input())\n",
        "dtob(y)"
      ],
      "execution_count": 19,
      "outputs": [
        {
          "output_type": "stream",
          "text": [
            "12\n",
            "The equivalent binary number is 1100\n"
          ],
          "name": "stdout"
        }
      ]
    },
    {
      "cell_type": "markdown",
      "metadata": {
        "id": "s00b45zUR82v",
        "colab_type": "text"
      },
      "source": [
        "ROOTS OF QUADRATIC EQUATION"
      ]
    },
    {
      "cell_type": "code",
      "metadata": {
        "id": "9pqQTSnOLgMt",
        "colab_type": "code",
        "colab": {
          "base_uri": "https://localhost:8080/",
          "height": 102
        },
        "outputId": "6f38c8e3-dd32-46c4-a66c-46c51edcd7cc"
      },
      "source": [
        "import cmath;\n",
        "print(\"Enter 'x' for exit\");\n",
        "num1=input(\"enter value of a:\");\n",
        "if num1=='x':\n",
        "  exit();\n",
        "else:\n",
        "  num2=input(\"enter value of b:\");\n",
        "  num3=input(\"enter value of c:\");\n",
        "  number1=float(num1);\n",
        "  number2=float(num2);\n",
        "  number3=float(num3);\n",
        "  d=(number2**2)-(4*number1*number3);\n",
        "  r1=(-number2-cmath.sqrt(d))/(2*number1);\n",
        "  r2=(-number2+cmath.sqrt(d))/(2*number1);\n",
        "  print(\"the solutions={0} and {1}\".format(r1,r2));"
      ],
      "execution_count": 21,
      "outputs": [
        {
          "output_type": "stream",
          "text": [
            "Enter 'x' for exit\n",
            "enter value of a:1\n",
            "enter value of b:4\n",
            "enter value of c:-2\n",
            "the solutions=(-4.449489742783178+0j) and (0.4494897427831779+0j)\n"
          ],
          "name": "stdout"
        }
      ]
    },
    {
      "cell_type": "markdown",
      "metadata": {
        "id": "xMNJa_0FObdT",
        "colab_type": "text"
      },
      "source": [
        "Fibonacci series"
      ]
    },
    {
      "cell_type": "code",
      "metadata": {
        "id": "rHVqZjk-Pw_X",
        "colab_type": "code",
        "colab": {
          "base_uri": "https://localhost:8080/",
          "height": 119
        },
        "outputId": "9cf4512e-0c96-4fbb-d9e3-50a617662756"
      },
      "source": [
        "n=int(input())\n",
        "n1=0\n",
        "n2=1\n",
        "c=0\n",
        "if n<0:\n",
        "  print(\"enter a positive number\")\n",
        "elif n == 0:\n",
        "  print(n1)\n",
        "else:\n",
        "  while(c<n):\n",
        "    print(n1)\n",
        "    nth=n1+n2\n",
        "    n1=n2\n",
        "    n2=nth\n",
        "    c +=1\n"
      ],
      "execution_count": 24,
      "outputs": [
        {
          "output_type": "stream",
          "text": [
            "5\n",
            "0\n",
            "1\n",
            "1\n",
            "2\n",
            "3\n"
          ],
          "name": "stdout"
        }
      ]
    },
    {
      "cell_type": "code",
      "metadata": {
        "id": "-pZK2kzeRUP6",
        "colab_type": "code",
        "colab": {}
      },
      "source": [
        ""
      ],
      "execution_count": 0,
      "outputs": []
    }
  ]
}